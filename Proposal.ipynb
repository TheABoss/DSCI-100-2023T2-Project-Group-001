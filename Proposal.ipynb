{
 "cells": [
  {
   "cell_type": "markdown",
   "id": "e2265e26-a9a3-40a7-9025-f1e248c2bc6a",
   "metadata": {},
   "source": [
    "# Classifying Student Knowledge Levels Using Metrics of Academic Rigor: A Proposal"
   ]
  },
  {
   "cell_type": "markdown",
   "id": "20287f1b-28a3-45b8-99f1-f820ed041fa8",
   "metadata": {},
   "source": [
    "DSCI 100 010 W2023T2, Group 01 (Thomas Hesselbo, Debon Lee, Coe McGrath, Celine Xi)"
   ]
  },
  {
   "cell_type": "markdown",
   "id": "9702da39-6010-464c-bc37-fd4eac3a9943",
   "metadata": {},
   "source": [
    "### Introduction"
   ]
  },
  {
   "cell_type": "markdown",
   "id": "9084c17a-5956-4fda-b1ba-042b57c501b8",
   "metadata": {},
   "source": [
    " Being able to predict a given student’s knowledge level in a given subject is of pedagogical importance, as it would allow an instructor to identify students who are in need of additional assistance. Subsequently, our project attempts to build a classifier for a student’s level of knowledge utilizing their performance and their study habits in a current subject and its prerequisite subjects. To accomplish this, our project utilizes the “User Knowledge Modeling” dataset sourced from the UC Irvine Machine Learning Repository. This data set contains the variables STG, SCG, STR, LPR, PEG, and UNS. User knowledge (UNS) is classified as either “very low”, “low”, “middle”, or “high”. STG and STR are the normalized study times for current material and prerequisite material respectively. PEG is performance on exams for the current subject. SCG is the extent of repetition undergone by that student for the current subject. Finally, LPR is the student’s knowledge in the prerequisite courses. These variables (STG, SCG, STR, LPR, PEG) are normalized and scaled from 0 to 1, and come pre-split into training and test data sets. "
   ]
  },
  {
   "cell_type": "markdown",
   "id": "3ab4dec5-f559-461f-ac5b-6967fff69067",
   "metadata": {},
   "source": [
    "### Preliminary Data Exploration"
   ]
  },
  {
   "cell_type": "markdown",
   "id": "dcc46c70-619d-42d9-9098-b9eb1c17ebda",
   "metadata": {},
   "source": [
    "#### Loading Packages & Setting the Environment"
   ]
  },
  {
   "cell_type": "code",
   "execution_count": null,
   "id": "882c5f56-5080-4281-b88d-0086444497c6",
   "metadata": {},
   "outputs": [],
   "source": [
    "library(tidyverse)\n",
    "library(repr)\n",
    "library(tidymodels)\n",
    "library(readxl)\n",
    "library(RColorBrewer)\n",
    "options(repr.matrix.max.rows = 6)"
   ]
  },
  {
   "cell_type": "markdown",
   "id": "1569623e-d6e9-4ee1-9505-41ff4908acd5",
   "metadata": {},
   "source": [
    "#### Loading the Excel Data"
   ]
  },
  {
   "cell_type": "code",
   "execution_count": null,
   "id": "0e2b0523-0469-4031-881a-44b50d6d2f40",
   "metadata": {},
   "outputs": [],
   "source": [
    "url <- \"https://github.com/TheABoss/DSCI-100-2023T2-Project-Group-001/raw/main/data/Data_User_Modeling_Dataset_Hamdi%20Tolga%20KAHRAMAN.xls\"\n",
    "#Define URL object for Excel dataset\n",
    "\n",
    "temp_xls <- tempfile(fileext = \".xls\")\n",
    "#Prepare temp file\n",
    "\n",
    "download.file(url, destfile = temp_xls)\n",
    "#Downloading Excel file\n",
    "\n",
    "know_train <- read_excel(temp_xls,sheet = 2,range = \"A1:F259\")\n",
    "#Downloading Excel sheet as tibble containing training data\n",
    "\n",
    "know_test <- read_excel(temp_xls,sheet = 3,range = \"A1:F146\")\n",
    "#Downloading Excel sheet as tibble containing test data"
   ]
  },
  {
   "cell_type": "markdown",
   "id": "b72aeed6-bd8e-480d-9861-7290e33b381c",
   "metadata": {},
   "source": [
    "#### Data Previewing, Cleaning, & Wrangling"
   ]
  },
  {
   "cell_type": "code",
   "execution_count": null,
   "id": "7f2de412-db88-4623-8e30-56eb017f7f31",
   "metadata": {},
   "outputs": [],
   "source": [
    "know_train\n",
    "know_test\n",
    "#Demonstrating file can be read"
   ]
  },
  {
   "cell_type": "code",
   "execution_count": null,
   "id": "701a64b6-0e91-4f85-87db-158548227e9b",
   "metadata": {},
   "outputs": [],
   "source": [
    "any(is.na(know_train))\n",
    "any(is.na(know_test))\n",
    "#Checking for NAs"
   ]
  },
  {
   "cell_type": "markdown",
   "id": "2331348f-75ea-4051-a8a5-e9836e2a0767",
   "metadata": {},
   "source": [
    "The loaded data meets the prerequisites of being tidy (rows = single observations, columns = single variables, one cell = one value). Thus, no cleaning or wrangling was performed as the data is already tidy."
   ]
  },
  {
   "cell_type": "markdown",
   "id": "dd9e3883-c580-48af-941b-3d0b8b3c119c",
   "metadata": {},
   "source": [
    "#### Data Summary"
   ]
  },
  {
   "cell_type": "markdown",
   "id": "988347de-b168-4125-8122-a664d89dbf20",
   "metadata": {},
   "source": [
    "##### Table"
   ]
  },
  {
   "cell_type": "code",
   "execution_count": null,
   "id": "13fe5983-e477-44a6-ad35-b243f673de07",
   "metadata": {},
   "outputs": [],
   "source": [
    "know_train_avg <- know_train |>\n",
    "                group_by(UNS) |>\n",
    "                summarize(avgSTG = mean(STG),\n",
    "                      avgSCG = mean(SCG),\n",
    "                      avgSTR = mean(STR),\n",
    "                      avgLPR = mean(LPR),\n",
    "                      avgPEG = mean(PEG),\n",
    "                      Observations = n()) |>\n",
    "                arrange(desc(avgSTG))\n",
    "know_train_avg"
   ]
  },
  {
   "cell_type": "markdown",
   "id": "1a88ff30-b5a5-4784-9e0f-28374586ec2f",
   "metadata": {},
   "source": [
    "##### Plot"
   ]
  },
  {
   "cell_type": "code",
   "execution_count": null,
   "id": "32c9a477-e7f0-4c53-92e8-d4af5769de92",
   "metadata": {},
   "outputs": [],
   "source": [
    "reorder <- know_train |>\n",
    "            pivot_longer(STG:PEG, names_to = \"type\", values_to = \"value\") |>\n",
    "            group_by(UNS,type) |>\n",
    "            summarise(avg = mean(value),\n",
    "                      sd = sd(value))\n",
    "#Pivoting summmary table such that is no longer untidy (i.e. readable by ggplot)\n",
    "\n",
    "reorder$UNS <- factor(reorder$UNS, levels = c(\"very_low\", \"Low\", \"Middle\", \"High\"))\n",
    "#Reorder data from V. Low to High, while also including human-readable labels\n",
    "\n",
    "options(repr.plot.width = 10, repr.plot.height = 7)\n",
    "know_train_avg_plot <- ggplot(reorder, aes(x = UNS, \n",
    "                                           y = avg, \n",
    "                                           fill = UNS)) +\n",
    "                        geom_bar(stat = \"identity\", \n",
    "                                 position = \"dodge\") +\n",
    "                        labs(x = \"Knowledge Level\", \n",
    "                             y = \"Scaled Performance\", \n",
    "                             title = \"Average Scaled Performance with\\n Respect to Knowledge Level and Attribute\",\n",
    "                             fill = \"Measure\") +\n",
    "                        facet_grid(. ~ type) + \n",
    "                        scale_x_discrete(labels = c(\"Very Low\", \n",
    "                                                    \"Low\", \n",
    "                                                    \"Middle\", \n",
    "                                                    \"High\")) +\n",
    "                        scale_fill_brewer(palette = \"Paired\", \n",
    "                                          labels = c(\"Very Low\", \n",
    "                                                    \"Low\", \n",
    "                                                    \"Middle\", \n",
    "                                                    \"High\")) +\n",
    "                        theme(text = element_text(size = 16), \n",
    "                              axis.text.x = element_text(angle = 50, hjust = 1))\n",
    "know_train_avg_plot"
   ]
  },
  {
   "cell_type": "markdown",
   "id": "412ca708-ce8a-4f94-bf80-05aa7d0e3431",
   "metadata": {},
   "source": [
    "The above graph is an effective demonstration of the data set, as it shows that the average of the predictors PEG, SCG, STG, and STR increase with the knowledge level classifier (ie. the average PEG of “very low” observations is smaller than “low” observations, “low” observations are smaller than “middle” observations, and so on). "
   ]
  },
  {
   "cell_type": "markdown",
   "id": "ee769a3d-50a6-41bf-a110-cd9e31871a33",
   "metadata": {},
   "source": [
    "### Methods"
   ]
  },
  {
   "cell_type": "markdown",
   "id": "cd486550-91c0-45ca-ad68-8b3f195ccdda",
   "metadata": {},
   "source": [
    "To conduct our analysis, we will create a classifier utilizing the K nearest neighbours (KNN) model. The predictors for this model will be STG, SCG, STR, and PEG. We selected these predictors based on the above graph as they show a somewhat increasing trend as knowledge level changes from “very low” to “low” to “middle” to “high”. Continuing on this logic, LPR does not appear to have the same trend, as the average values for “very low” and “middle” observations are similar, as are the ones for “low” and “high”. In other words, LPR values do not seem to be able to predict knowledge class based on the graph. Thus, we are excluding LPR as one of our predictors.  We will show the results of our analysis through two graphs: one which shows a line graph of the predicted accuracy with different values of k, and a confusion matrix for the final classifier against the test data."
   ]
  },
  {
   "cell_type": "markdown",
   "id": "e9d2881a-98b0-4095-b3f0-8d017b56271c",
   "metadata": {},
   "source": [
    "### Expected Outcomes and Significance"
   ]
  },
  {
   "cell_type": "markdown",
   "id": "5d9ed4c2-c865-41bd-89cd-9c3663cfb7ea",
   "metadata": {},
   "source": [
    "We expect that our classifier will have a higher accuracy than the majority classifier and that it will have a high level of recall and precision for each level of knowledge. Should these findings prove significant, it would allow instructors to use this classifier to identify students in need of assistance. Continued work can look to improve the classifier by investigating other predictors for a student’s knowledge levels in a given subject. Additionally, we could also investigate other models (aside from KNN), as they may better predict a student’s level of understanding."
   ]
  }
 ],
 "metadata": {
  "kernelspec": {
   "display_name": "R",
   "language": "R",
   "name": "ir"
  },
  "language_info": {
   "codemirror_mode": "r",
   "file_extension": ".r",
   "mimetype": "text/x-r-source",
   "name": "R",
   "pygments_lexer": "r",
   "version": "4.3.1"
  }
 },
 "nbformat": 4,
 "nbformat_minor": 5
}
